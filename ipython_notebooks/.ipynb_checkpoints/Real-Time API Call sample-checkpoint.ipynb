{
  "metadata": {
    "creator": "ludo",
    "customFields": {},
    "kernelspec": {
      "display_name": "Python 2",
      "language": "python",
      "name": "python2"
    },
    "language_info": {
      "codemirror_mode": {
        "name": "ipython",
        "version": 2
      },
      "file_extension": ".py",
      "mimetype": "text/x-python",
      "name": "python",
      "nbconvert_exporter": "python",
      "pygments_lexer": "ipython2",
      "version": "2.7.10"
    },
    "tags": []
  },
  "nbformat": 4,
  "nbformat_minor": 1,
  "cells": [
    {
      "execution_count": 0,
      "cell_type": "code",
      "metadata": {},
      "source": [
        "import dataikuapi"
      ],
      "outputs": []
    },
    {
      "execution_count": 0,
      "cell_type": "code",
      "metadata": {},
      "source": [
        "params \u003d {\"contractID\":\"333333\",\"claimAmount\":\"5435\",\"claimDate\":\"2019-08-17\",\"claimExpert\":\"1\",\"litigationFlag\":\"1\",\"claimDept\":\"77\"}"
      ],
      "outputs": []
    },
    {
      "execution_count": 0,
      "cell_type": "code",
      "metadata": {},
      "source": [
        "params"
      ],
      "outputs": []
    },
    {
      "execution_count": 0,
      "cell_type": "code",
      "metadata": {},
      "source": [
        "record_to_predict \u003d {\n",
        "    \"contract_id\": params.get(\u0027contractID\u0027),\n",
        "    \"claim_amount\": params.get(\u0027claimAmount\u0027),\n",
        "    \"claim_date\": params.get(\u0027claimDate\u0027),\n",
        "    \"expert\": params.get(\u0027claimExpert\u0027),\n",
        "    \"litigation_flag\": params.get(\u0027litigationFlag\u0027),\n",
        "    \"code_dep\": params.get(\u0027claimDept\u0027)\n",
        "}\n",
        "record_to_predict"
      ],
      "outputs": []
    },
    {
      "execution_count": 0,
      "cell_type": "code",
      "metadata": {},
      "source": [
        "client \u003d dataikuapi.APINodeClient(\"http://localhost:11700/\", \"Fraud_Detection\")\n",
        "\n",
        "record_to_predict \u003d {\n",
        "    \"contract_id\": \"229959\",\n",
        "    \"claim_amount\": \"240.93\",\n",
        "    \"claim_date\": \"2015-11-27T00:00:00.000Z\",\n",
        "    \"expert\": \"1\",\n",
        "    \"litigation_flag\": \"0\",\n",
        "    \"code_dep\": 76\n",
        "}\n",
        "prediction \u003d client.predict_record(\"Fraud_Scoring\", record_to_predict)\n",
        "print(prediction[\"result\"])\n"
      ],
      "outputs": []
    },
    {
      "execution_count": 0,
      "cell_type": "code",
      "metadata": {},
      "source": [
        "print(prediction)"
      ],
      "outputs": []
    },
    {
      "execution_count": 0,
      "cell_type": "code",
      "metadata": {},
      "source": [],
      "outputs": []
    }
  ]
}