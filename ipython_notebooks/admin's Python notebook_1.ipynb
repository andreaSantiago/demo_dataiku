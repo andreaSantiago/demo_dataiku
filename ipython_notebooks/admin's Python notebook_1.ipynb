{
  "metadata": {
    "kernelspec": {
      "name": "py-dku-venv-py_36",
      "display_name": "Python (env py_36)",
      "language": "python"
    },
    "creator": "admin",
    "createdOn": 1677853835065,
    "tags": [],
    "customFields": {},
    "hide_input": false,
    "language_info": {
      "name": "python",
      "version": "3.6.8",
      "mimetype": "text/x-python",
      "codemirror_mode": {
        "name": "ipython",
        "version": 3
      },
      "pygments_lexer": "ipython3",
      "nbconvert_exporter": "python",
      "file_extension": ".py"
    },
    "modifiedBy": "admin"
  },
  "nbformat": 4,
  "nbformat_minor": 1,
  "cells": [
    {
      "execution_count": 0,
      "cell_type": "code",
      "metadata": {},
      "source": [
        "%pylab inline"
      ],
      "outputs": []
    },
    {
      "execution_count": 0,
      "cell_type": "code",
      "metadata": {},
      "source": [
        "import dataiku\nfrom dataiku import pandasutils as pdu\nimport pandas as pd"
      ],
      "outputs": []
    },
    {
      "execution_count": 0,
      "cell_type": "code",
      "metadata": {},
      "source": [
        "# Example: load a DSS dataset as a Pandas dataframe\nmydataset \u003d dataiku.Dataset(\"mydataset\")\nmydataset_df \u003d mydataset.get_dataframe()"
      ],
      "outputs": []
    },
    {
      "execution_count": 0,
      "cell_type": "code",
      "metadata": {},
      "source": [
        "import dataikuapi\n\nclient \u003d dataikuapi.APINodeClient(\"http://localhost:11900/\", \"test\")\n\nrecord_to_predict \u003d {\n    \"customer_id\": \"0-10367726338\",\n    \"claim_date\": \"2016-10-19T00:00:00.000Z\"\n}\nprediction \u003d client.predict_record(\"test\", record_to_predict)\nprint(prediction[\"result\"])\n"
      ],
      "outputs": []
    },
    {
      "execution_count": 0,
      "cell_type": "code",
      "metadata": {},
      "source": [
        ""
      ],
      "outputs": []
    }
  ]
}